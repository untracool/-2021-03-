{
 "cells": [
  {
   "cell_type": "code",
   "execution_count": 1,
   "metadata": {
    "collapsed": false
   },
   "outputs": [],
   "source": [
    "import numpy as np  #\r\n",
    "import pandas as pd  #\r\n",
    "from datetime import datetime, date, timedelta\r\n",
    "from scipy.stats import skew  # for some statistics\r\n",
    "from scipy.special import boxcox1p\r\n",
    "from scipy.stats import boxcox_normmax\r\n",
    "# from sklearn.linear_model import ElasticNetCV, LassoCV, RidgeCV,Ridge,Lasso,ElasticNet\r\n",
    "# from sklearn.ensemble import GradientBoostingRegressor, RandomForestRegressor,RandomForestClassifier\r\n",
    "# from sklearn.feature_selection import mutual_info_regression\r\n",
    "# from sklearn.svm import SVR, LinearSVC\r\n",
    "# from sklearn.pipeline import make_pipeline,Pipeline\r\n",
    "# from sklearn.preprocessing import RobustScaler, LabelEncoder, StandardScaler,MinMaxScaler\r\n",
    "# from sklearn.model_selection import KFold, cross_val_score, train_test_split\r\n",
    "# from sklearn.metrics import mean_squared_error\r\n",
    "# from sklearn.model_selection import GridSearchCV\r\n",
    "# from sklearn.model_selection import train_test_split\r\n",
    "import os\r\n",
    "import re\r\n",
    "import seaborn as sns\r\n",
    "import matplotlib.pyplot as plt\r\n",
    "import time\r\n",
    "from itertools import product\r\n",
    "import datetime as dt\r\n",
    "import calendar\r\n",
    "import gc\r\n",
    "from datetime import date, timedelta\r\n",
    "import paddle\r\n",
    "import paddle.fluid as fluid\r\n",
    "import paddle.fluid.dygraph as dygraph\r\n",
    "from paddle.fluid.dygraph import Linear\r\n",
    "import random"
   ]
  },
  {
   "cell_type": "code",
   "execution_count": 2,
   "metadata": {
    "collapsed": false
   },
   "outputs": [
    {
     "name": "stdout",
     "output_type": "stream",
     "text": [
      "Looking in indexes: https://mirrors.aliyun.com/pypi/simple/\n",
      "Requirement already satisfied: lightgbm in /opt/conda/envs/python35-paddle120-env/lib/python3.7/site-packages (3.1.1)\n",
      "Requirement already satisfied: scipy in /opt/conda/envs/python35-paddle120-env/lib/python3.7/site-packages (from lightgbm) (1.3.0)\n",
      "Requirement already satisfied: scikit-learn!=0.22.0 in /opt/conda/envs/python35-paddle120-env/lib/python3.7/site-packages (from lightgbm) (0.22.1)\n",
      "Requirement already satisfied: wheel in /opt/conda/envs/python35-paddle120-env/lib/python3.7/site-packages (from lightgbm) (0.33.6)\n",
      "Requirement already satisfied: numpy in /opt/conda/envs/python35-paddle120-env/lib/python3.7/site-packages (from lightgbm) (1.16.4)\n",
      "Requirement already satisfied: joblib>=0.11 in /opt/conda/envs/python35-paddle120-env/lib/python3.7/site-packages (from scikit-learn!=0.22.0->lightgbm) (0.14.1)\n",
      "Looking in indexes: https://mirror.baidu.com/pypi/simple/\n",
      "Requirement already satisfied: xgboost in /opt/conda/envs/python35-paddle120-env/lib/python3.7/site-packages (1.3.3)\n",
      "Requirement already satisfied: numpy in /opt/conda/envs/python35-paddle120-env/lib/python3.7/site-packages (from xgboost) (1.16.4)\n",
      "Requirement already satisfied: scipy in /opt/conda/envs/python35-paddle120-env/lib/python3.7/site-packages (from xgboost) (1.3.0)\n"
     ]
    }
   ],
   "source": [
    "!pip install lightgbm -i https://mirrors.aliyun.com/pypi/simple/\r\n",
    "!pip install xgboost"
   ]
  },
  {
   "cell_type": "code",
   "execution_count": 3,
   "metadata": {
    "collapsed": false
   },
   "outputs": [],
   "source": [
    "import numpy as np  # linear algebra\r\n",
    "import pandas as pd  #\r\n",
    "from datetime import datetime, date, timedelta\r\n",
    "from scipy.stats import skew  # for some statistics\r\n",
    "from scipy.special import boxcox1p\r\n",
    "from scipy.stats import boxcox_normmax\r\n",
    "from sklearn.linear_model import ElasticNetCV, LassoCV, RidgeCV,Ridge,Lasso,ElasticNet\r\n",
    "from sklearn.ensemble import GradientBoostingRegressor, RandomForestRegressor,RandomForestClassifier\r\n",
    "from sklearn.feature_selection import mutual_info_regression\r\n",
    "from sklearn.svm import SVR, LinearSVC\r\n",
    "from sklearn.pipeline import make_pipeline,Pipeline\r\n",
    "from sklearn.preprocessing import RobustScaler, LabelEncoder\r\n",
    "from sklearn.model_selection import KFold, cross_val_score, train_test_split\r\n",
    "from sklearn.metrics import mean_squared_error\r\n",
    "from sklearn.model_selection import GridSearchCV\r\n",
    "from sklearn.model_selection import train_test_split\r\n",
    "from tqdm import tqdm\r\n",
    "from xgboost import XGBRegressor\r\n",
    "import xgboost as xgb"
   ]
  },
  {
   "cell_type": "code",
   "execution_count": 7,
   "metadata": {
    "collapsed": false
   },
   "outputs": [
    {
     "name": "stdout",
     "output_type": "stream",
     "text": [
      "Looking in indexes: https://mirror.baidu.com/pypi/simple/\n",
      "Requirement already up-to-date: pandas in /opt/conda/envs/python35-paddle120-env/lib/python3.7/site-packages (1.2.3)\n",
      "Requirement already satisfied, skipping upgrade: pytz>=2017.3 in /opt/conda/envs/python35-paddle120-env/lib/python3.7/site-packages (from pandas) (2019.3)\n",
      "Requirement already satisfied, skipping upgrade: numpy>=1.16.5 in /opt/conda/envs/python35-paddle120-env/lib/python3.7/site-packages (from pandas) (1.20.2)\n",
      "Requirement already satisfied, skipping upgrade: python-dateutil>=2.7.3 in /opt/conda/envs/python35-paddle120-env/lib/python3.7/site-packages (from pandas) (2.8.0)\n",
      "Requirement already satisfied, skipping upgrade: six>=1.5 in /opt/conda/envs/python35-paddle120-env/lib/python3.7/site-packages (from python-dateutil>=2.7.3->pandas) (1.15.0)\n"
     ]
    }
   ],
   "source": [
    "import pickle\r\n",
    "!pip install --upgrade pandas"
   ]
  },
  {
   "cell_type": "code",
   "execution_count": 8,
   "metadata": {
    "collapsed": false
   },
   "outputs": [],
   "source": [
    "import pandas as pd  #"
   ]
  },
  {
   "cell_type": "code",
   "execution_count": 9,
   "metadata": {
    "collapsed": false
   },
   "outputs": [],
   "source": [
    "PATH = './data/data71980/'\r\n",
    "train = pd.read_csv(PATH + 'train.csv')\r\n",
    "# train = pd.read_csv('./data/data19383/train.csv', usecols=[2, 3, 4, 6, 7, 18])\r\n",
    "# set index to ID to avoid droping it later\r\n",
    "# 把测试集的id列作为索引，防止误删\r\n",
    "test  = pd.read_csv(PATH + 'submission.csv').set_index('customer_id')"
   ]
  },
  {
   "cell_type": "code",
   "execution_count": 10,
   "metadata": {
    "collapsed": false
   },
   "outputs": [],
   "source": [
    "X_train = pd.read_pickle('data/data71980/X_train.pkl')\r\n",
    "X_val = pd.read_pickle('data/data71980/X_val.pkl')\r\n",
    "X_test = pd.read_pickle('data/data71980/X_test.pkl')"
   ]
  },
  {
   "cell_type": "code",
   "execution_count": 11,
   "metadata": {
    "collapsed": false
   },
   "outputs": [],
   "source": [
    "import numpy as np"
   ]
  },
  {
   "cell_type": "code",
   "execution_count": 12,
   "metadata": {
    "collapsed": false
   },
   "outputs": [],
   "source": [
    "y_train = np.load(\"data/data71980/y_train.npy\")\r\n",
    "y_val = np.load(\"data/data71980/y_val.npy\")"
   ]
  },
  {
   "cell_type": "code",
   "execution_count": 13,
   "metadata": {
    "collapsed": false
   },
   "outputs": [],
   "source": [
    "import gc"
   ]
  },
  {
   "cell_type": "code",
   "execution_count": 14,
   "metadata": {
    "collapsed": false
   },
   "outputs": [],
   "source": [
    "X_l, y_l = [], []\r\n",
    "X_l.append(X_train)\r\n",
    "y_l.append(y_train)\r\n",
    "X_l.append(X_val)\r\n",
    "y_l.append(y_val)\r\n",
    "X_train_cv = pd.concat(X_l, axis=0)\r\n",
    "y_train_cv = np.concatenate(y_l, axis=0)\r\n",
    "del X_l\r\n",
    "del y_l\r\n",
    "gc.collect()\r\n",
    "X_train_cv.to_pickle('work/X_train_cv.pkl')\r\n",
    "np.save(\"work/y_train_cv.npy\", y_train_cv)"
   ]
  },
  {
   "cell_type": "code",
   "execution_count": 15,
   "metadata": {
    "collapsed": false
   },
   "outputs": [],
   "source": [
    "X_train_cv = pd.read_pickle('work/X_train_cv.pkl')\r\n",
    "y_train_cv = np.load(\"work/y_train_cv.npy\")\r\n",
    "X_test = pd.read_pickle('data/data71980/X_test.pkl')"
   ]
  },
  {
   "cell_type": "code",
   "execution_count": 16,
   "metadata": {
    "collapsed": false
   },
   "outputs": [],
   "source": [
    "from xgboost import XGBRegressor\r\n",
    "import xgboost as xgb"
   ]
  },
  {
   "cell_type": "code",
   "execution_count": 17,
   "metadata": {
    "collapsed": false
   },
   "outputs": [
    {
     "name": "stdout",
     "output_type": "stream",
     "text": [
      "[14:58:57] WARNING: ../src/learner.cc:541: \n",
      "Parameters: { scale_pos_weight, silent } might not be used.\n",
      "\n",
      "  This may not be accurate due to some parameters are only used in language bindings but\n",
      "  passed down to XGBoost core.  Or some parameters are not used but slip through this\n",
      "  verification. Please open an issue if you find above cases.\n",
      "\n",
      "\n",
      "[0]\ttrain-logloss:0.67855\n",
      "[1]\ttrain-logloss:0.66621\n",
      "[2]\ttrain-logloss:0.65160\n",
      "[3]\ttrain-logloss:0.64289\n",
      "[4]\ttrain-logloss:0.63305\n",
      "[5]\ttrain-logloss:0.62306\n",
      "[6]\ttrain-logloss:0.61380\n",
      "[7]\ttrain-logloss:0.60512\n",
      "[8]\ttrain-logloss:0.59776\n",
      "[9]\ttrain-logloss:0.59080\n",
      "[10]\ttrain-logloss:0.58355\n",
      "[11]\ttrain-logloss:0.57783\n",
      "[12]\ttrain-logloss:0.57207\n",
      "[13]\ttrain-logloss:0.56747\n",
      "[14]\ttrain-logloss:0.56337\n",
      "[15]\ttrain-logloss:0.56034\n",
      "[16]\ttrain-logloss:0.55662\n",
      "[17]\ttrain-logloss:0.55452\n",
      "[18]\ttrain-logloss:0.55288\n",
      "[19]\ttrain-logloss:0.55135\n",
      "[20]\ttrain-logloss:0.55270\n",
      "[21]\ttrain-logloss:0.60194\n",
      "[22]\ttrain-logloss:0.60932\n",
      "[23]\ttrain-logloss:0.61333\n",
      "[24]\ttrain-logloss:0.62278\n",
      "[25]\ttrain-logloss:0.81096\n",
      "[26]\ttrain-logloss:0.87681\n",
      "[27]\ttrain-logloss:0.90327\n",
      "[28]\ttrain-logloss:0.93294\n",
      "[29]\ttrain-logloss:0.97688\n"
     ]
    }
   ],
   "source": [
    "xgb_train = xgb.DMatrix(X_train_cv.values, label=y_train_cv)\r\n",
    "xgb_test = xgb.DMatrix(X_test.values)\r\n",
    "\r\n",
    "params = {'booster': 'gbtree',\r\n",
    "          'objective': 'rank:pairwise',  # 二分类的问题\r\n",
    "          # 'gamma':0.1,  # 用于控制是否后剪枝的参数,越大越保守，一般0.1、0.2这样子。\r\n",
    "          'max_depth': 4,  # 构建树的深度，越大越容易过拟合\r\n",
    "          # 'lambda':2,  # 控制模型复杂度的权重值的L2正则化项参数，参数越大，模型越不容易过拟合。\r\n",
    "          'subsample': 0.8,  # 随机采样训练样本\r\n",
    "          'colsample_bytree': 0.8,  # 生成树时进行的列采样\r\n",
    "          'min_child_weight': 2,\r\n",
    "          # 这个参数默认是 1，是每个叶子里面 h 的和至少是多少，对正负样本不均衡时的 0-1 分类而言\r\n",
    "          # ，假设 h 在 0.01 附近，min_child_weight 为 1 意味着叶子节点中最少需要包含 100 个样本。\r\n",
    "          # 这个参数非常影响结果，控制叶子节点中二阶导的和的最小值，该参数值越小，越容易 overfitting。\r\n",
    "          'scale_pos_weight': 100,\r\n",
    "          'silent': 0,  # 设置成1则没有运行信息输出，最好是设置为0.\r\n",
    "          'eta': 0.03,  # 如同学习率\r\n",
    "          'nthread': 8,  # cpu 线程数\r\n",
    "          'eval_metric': 'logloss'  # 评价方式\r\n",
    "          }\r\n",
    "\r\n",
    "plst = list(params.items())\r\n",
    "num_rounds = 30  # 迭代次数\r\n",
    "watchlist = [(xgb_train, 'train')]\r\n",
    "# early_stopping_rounds    当设置的迭代次数较大时，early_stopping_rounds 可在一定的迭代次数内准确率没有提升就停止训练\r\n",
    "model = xgb.train(plst, xgb_train, num_rounds, watchlist)\r\n",
    "pred_value = model.predict(xgb_test)"
   ]
  },
  {
   "cell_type": "code",
   "execution_count": 18,
   "metadata": {
    "collapsed": false
   },
   "outputs": [
    {
     "name": "stdout",
     "output_type": "stream",
     "text": [
      "484245\n",
      "[0.7536372  0.231422   0.6275625  ... 0.9184368  0.9312559  0.92893404]\n"
     ]
    }
   ],
   "source": [
    "print(len(pred_value))\r\n",
    "print(pred_value)"
   ]
  },
  {
   "cell_type": "code",
   "execution_count": 19,
   "metadata": {
    "collapsed": false
   },
   "outputs": [
    {
     "name": "stdout",
     "output_type": "stream",
     "text": [
      "        customer_id  mean_7  median_7  max_7  sum_7  mean_7_2  median_7_2  \\\n",
      "0           1000014     0.0       0.0    0.0    0.0       0.0         0.0   \n",
      "1           1000046     0.0       0.0    0.0    0.0       0.0         0.0   \n",
      "2           1000069     0.0       0.0    0.0    0.0       0.0         0.0   \n",
      "3           1000105     0.0       0.0    0.0    0.0       0.0         0.0   \n",
      "4           1000109     0.0       0.0    0.0    0.0       0.0         0.0   \n",
      "...             ...     ...       ...    ...    ...       ...         ...   \n",
      "484240      2826556     0.0       0.0    0.0    0.0       0.0         0.0   \n",
      "484241      2826558     0.0       0.0    0.0    0.0       0.0         0.0   \n",
      "484242      2826562     0.0       0.0    0.0    0.0       0.0         0.0   \n",
      "484243      2826570     0.0       0.0    0.0    0.0       0.0         0.0   \n",
      "484244      2826574     0.0       0.0    0.0    0.0       0.0         0.0   \n",
      "\n",
      "        max_7_2  has_sales_days_in_last_7  last_has_sales_day_in_last_7  ...  \\\n",
      "0           0.0                         0                             7  ...   \n",
      "1           0.0                         0                             7  ...   \n",
      "2           0.0                         0                             7  ...   \n",
      "3           0.0                         0                             7  ...   \n",
      "4           0.0                         0                             7  ...   \n",
      "...         ...                       ...                           ...  ...   \n",
      "484240      0.0                         0                             7  ...   \n",
      "484241      0.0                         0                             7  ...   \n",
      "484242      0.0                         0                             7  ...   \n",
      "484243      0.0                         0                             7  ...   \n",
      "484244      0.0                         0                             7  ...   \n",
      "\n",
      "        goods_mean_20_dow4_2013  goods_mean_4_dow5_2013  \\\n",
      "0                      0.000000                     0.0   \n",
      "1                      0.000000                     0.0   \n",
      "2                      0.000000                     0.0   \n",
      "3                      0.099976                     0.0   \n",
      "4                      0.000000                     0.0   \n",
      "...                         ...                     ...   \n",
      "484240                 0.000000                     0.0   \n",
      "484241                 0.000000                     0.0   \n",
      "484242                 0.099976                     0.0   \n",
      "484243                 0.000000                     0.0   \n",
      "484244                 0.000000                     0.0   \n",
      "\n",
      "        goods_mean_20_dow5_2013  goods_mean_4_dow6_2013  \\\n",
      "0                           0.0                     0.0   \n",
      "1                           0.0                     0.0   \n",
      "2                           0.0                     0.0   \n",
      "3                           0.0                     0.0   \n",
      "4                           0.0                     0.0   \n",
      "...                         ...                     ...   \n",
      "484240                      0.0                     0.0   \n",
      "484241                      0.0                     0.0   \n",
      "484242                      0.0                     0.0   \n",
      "484243                      0.0                     0.0   \n",
      "484244                      0.0                     0.0   \n",
      "\n",
      "        goods_mean_20_dow6_2013  member_id  customer_gender  \\\n",
      "0                      0.000000          0                0   \n",
      "1                      0.099976          0                0   \n",
      "2                      0.000000          0                0   \n",
      "3                      0.000000          0                0   \n",
      "4                      0.000000          0                0   \n",
      "...                         ...        ...              ...   \n",
      "484240                 0.000000    4137361                0   \n",
      "484241                 0.000000    4138765                0   \n",
      "484242                 0.000000    4145746                0   \n",
      "484243                 0.000000    4153429                0   \n",
      "484244                 0.000000    4160956                0   \n",
      "\n",
      "        customer_province_id  customer_city_id  is_member_actived  \n",
      "0                         23               339                  0  \n",
      "1                         13                11                  0  \n",
      "2                         14               260                  0  \n",
      "3                         13               228                  0  \n",
      "4                          1                 8                  0  \n",
      "...                      ...               ...                ...  \n",
      "484240                    11                17                  1  \n",
      "484241                    16               145                  1  \n",
      "484242                    17                 9                  1  \n",
      "484243                    11                17                  1  \n",
      "484244                     9               334                  1  \n",
      "\n",
      "[484245 rows x 187 columns]\n"
     ]
    }
   ],
   "source": [
    "sub = pd.read_pickle('data/data71980/X_test.pkl')\r\n",
    "print(sub)"
   ]
  },
  {
   "cell_type": "code",
   "execution_count": 20,
   "metadata": {
    "collapsed": false
   },
   "outputs": [],
   "source": [
    "subb = sub['customer_id']"
   ]
  },
  {
   "cell_type": "code",
   "execution_count": 21,
   "metadata": {
    "collapsed": false
   },
   "outputs": [
    {
     "name": "stdout",
     "output_type": "stream",
     "text": [
      "0         1000014\n",
      "1         1000046\n",
      "2         1000069\n",
      "3         1000105\n",
      "4         1000109\n",
      "           ...   \n",
      "484240    2826556\n",
      "484241    2826558\n",
      "484242    2826562\n",
      "484243    2826570\n",
      "484244    2826574\n",
      "Name: customer_id, Length: 484245, dtype: uint32\n"
     ]
    }
   ],
   "source": [
    "print(subb)"
   ]
  },
  {
   "cell_type": "code",
   "execution_count": 24,
   "metadata": {
    "collapsed": false
   },
   "outputs": [],
   "source": [
    "df_preds = pd.DataFrame(\r\n",
    "{    \"customer_id\": subb, \r\n",
    "    \"pred\": pred_value}\r\n",
    ")"
   ]
  },
  {
   "cell_type": "code",
   "execution_count": 26,
   "metadata": {
    "collapsed": false
   },
   "outputs": [
    {
     "ename": "AttributeError",
     "evalue": "'NotebookFormatter' object has no attribute 'get_result'",
     "output_type": "error",
     "traceback": [
      "\u001b[0;31m---------------------------------------------------------------------------\u001b[0m",
      "\u001b[0;31mAttributeError\u001b[0m                            Traceback (most recent call last)",
      "\u001b[0;32m/opt/conda/envs/python35-paddle120-env/lib/python3.7/site-packages/IPython/core/formatters.py\u001b[0m in \u001b[0;36m__call__\u001b[0;34m(self, obj)\u001b[0m\n\u001b[1;32m    343\u001b[0m             \u001b[0mmethod\u001b[0m \u001b[0;34m=\u001b[0m \u001b[0mget_real_method\u001b[0m\u001b[0;34m(\u001b[0m\u001b[0mobj\u001b[0m\u001b[0;34m,\u001b[0m \u001b[0mself\u001b[0m\u001b[0;34m.\u001b[0m\u001b[0mprint_method\u001b[0m\u001b[0;34m)\u001b[0m\u001b[0;34m\u001b[0m\u001b[0;34m\u001b[0m\u001b[0m\n\u001b[1;32m    344\u001b[0m             \u001b[0;32mif\u001b[0m \u001b[0mmethod\u001b[0m \u001b[0;32mis\u001b[0m \u001b[0;32mnot\u001b[0m \u001b[0;32mNone\u001b[0m\u001b[0;34m:\u001b[0m\u001b[0;34m\u001b[0m\u001b[0;34m\u001b[0m\u001b[0m\n\u001b[0;32m--> 345\u001b[0;31m                 \u001b[0;32mreturn\u001b[0m \u001b[0mmethod\u001b[0m\u001b[0;34m(\u001b[0m\u001b[0;34m)\u001b[0m\u001b[0;34m\u001b[0m\u001b[0;34m\u001b[0m\u001b[0m\n\u001b[0m\u001b[1;32m    346\u001b[0m             \u001b[0;32mreturn\u001b[0m \u001b[0;32mNone\u001b[0m\u001b[0;34m\u001b[0m\u001b[0;34m\u001b[0m\u001b[0m\n\u001b[1;32m    347\u001b[0m         \u001b[0;32melse\u001b[0m\u001b[0;34m:\u001b[0m\u001b[0;34m\u001b[0m\u001b[0;34m\u001b[0m\u001b[0m\n",
      "\u001b[0;32m/opt/conda/envs/python35-paddle120-env/lib/python3.7/site-packages/pandas/core/frame.py\u001b[0m in \u001b[0;36m_repr_html_\u001b[0;34m(self)\u001b[0m\n\u001b[1;32m    796\u001b[0m         \u001b[0mmax_cols\u001b[0m \u001b[0;34m=\u001b[0m \u001b[0mget_option\u001b[0m\u001b[0;34m(\u001b[0m\u001b[0;34m\"display.max_columns\"\u001b[0m\u001b[0;34m)\u001b[0m\u001b[0;34m\u001b[0m\u001b[0;34m\u001b[0m\u001b[0m\n\u001b[1;32m    797\u001b[0m         \u001b[0mmax_colwidth\u001b[0m \u001b[0;34m=\u001b[0m \u001b[0mget_option\u001b[0m\u001b[0;34m(\u001b[0m\u001b[0;34m\"display.max_colwidth\"\u001b[0m\u001b[0;34m)\u001b[0m\u001b[0;34m\u001b[0m\u001b[0;34m\u001b[0m\u001b[0m\n\u001b[0;32m--> 798\u001b[0;31m         \u001b[0mshow_dimensions\u001b[0m \u001b[0;34m=\u001b[0m \u001b[0mget_option\u001b[0m\u001b[0;34m(\u001b[0m\u001b[0;34m\"display.show_dimensions\"\u001b[0m\u001b[0;34m)\u001b[0m\u001b[0;34m\u001b[0m\u001b[0;34m\u001b[0m\u001b[0m\n\u001b[0m\u001b[1;32m    799\u001b[0m         \u001b[0;32mif\u001b[0m \u001b[0mget_option\u001b[0m\u001b[0;34m(\u001b[0m\u001b[0;34m\"display.expand_frame_repr\"\u001b[0m\u001b[0;34m)\u001b[0m\u001b[0;34m:\u001b[0m\u001b[0;34m\u001b[0m\u001b[0;34m\u001b[0m\u001b[0m\n\u001b[1;32m    800\u001b[0m             \u001b[0mwidth\u001b[0m\u001b[0;34m,\u001b[0m \u001b[0m_\u001b[0m \u001b[0;34m=\u001b[0m \u001b[0mconsole\u001b[0m\u001b[0;34m.\u001b[0m\u001b[0mget_console_size\u001b[0m\u001b[0;34m(\u001b[0m\u001b[0;34m)\u001b[0m\u001b[0;34m\u001b[0m\u001b[0;34m\u001b[0m\u001b[0m\n",
      "\u001b[0;32m/opt/conda/envs/python35-paddle120-env/lib/python3.7/site-packages/pandas/io/formats/format.py\u001b[0m in \u001b[0;36mto_html\u001b[0;34m(self, buf, encoding, classes, notebook, border)\u001b[0m\n\u001b[1;32m    986\u001b[0m         \u001b[0mnotebook\u001b[0m \u001b[0;34m:\u001b[0m \u001b[0;34m{\u001b[0m\u001b[0;32mTrue\u001b[0m\u001b[0;34m,\u001b[0m \u001b[0;32mFalse\u001b[0m\u001b[0;34m}\u001b[0m\u001b[0;34m,\u001b[0m \u001b[0moptional\u001b[0m\u001b[0;34m,\u001b[0m \u001b[0mdefault\u001b[0m \u001b[0;32mFalse\u001b[0m\u001b[0;34m\u001b[0m\u001b[0;34m\u001b[0m\u001b[0m\n\u001b[1;32m    987\u001b[0m             \u001b[0mWhether\u001b[0m \u001b[0mthe\u001b[0m \u001b[0mgenerated\u001b[0m \u001b[0mHTML\u001b[0m \u001b[0;32mis\u001b[0m \u001b[0;32mfor\u001b[0m \u001b[0mIPython\u001b[0m \u001b[0mNotebook\u001b[0m\u001b[0;34m.\u001b[0m\u001b[0;34m\u001b[0m\u001b[0;34m\u001b[0m\u001b[0m\n\u001b[0;32m--> 988\u001b[0;31m         \u001b[0mborder\u001b[0m \u001b[0;34m:\u001b[0m \u001b[0mint\u001b[0m\u001b[0;34m\u001b[0m\u001b[0;34m\u001b[0m\u001b[0m\n\u001b[0m\u001b[1;32m    989\u001b[0m             \u001b[0mA\u001b[0m\u001b[0;31m \u001b[0m\u001b[0;31m`\u001b[0m\u001b[0;31m`\u001b[0m\u001b[0mborder\u001b[0m\u001b[0;34m=\u001b[0m\u001b[0mborder\u001b[0m\u001b[0;31m`\u001b[0m\u001b[0;31m`\u001b[0m \u001b[0mattribute\u001b[0m \u001b[0;32mis\u001b[0m \u001b[0mincluded\u001b[0m \u001b[0;32min\u001b[0m \u001b[0mthe\u001b[0m \u001b[0mopening\u001b[0m\u001b[0;34m\u001b[0m\u001b[0;34m\u001b[0m\u001b[0m\n\u001b[1;32m    990\u001b[0m             \u001b[0;31m`\u001b[0m\u001b[0;31m`\u001b[0m\u001b[0;34m<\u001b[0m\u001b[0mtable\u001b[0m\u001b[0;34m>\u001b[0m\u001b[0;31m`\u001b[0m\u001b[0;31m`\u001b[0m \u001b[0mtag\u001b[0m\u001b[0;34m.\u001b[0m \u001b[0mDefault\u001b[0m\u001b[0;31m \u001b[0m\u001b[0;31m`\u001b[0m\u001b[0;31m`\u001b[0m\u001b[0mpd\u001b[0m\u001b[0;34m.\u001b[0m\u001b[0moptions\u001b[0m\u001b[0;34m.\u001b[0m\u001b[0mdisplay\u001b[0m\u001b[0;34m.\u001b[0m\u001b[0mhtml\u001b[0m\u001b[0;34m.\u001b[0m\u001b[0mborder\u001b[0m\u001b[0;31m`\u001b[0m\u001b[0;31m`\u001b[0m\u001b[0;34m.\u001b[0m\u001b[0;34m\u001b[0m\u001b[0;34m\u001b[0m\u001b[0m\n",
      "\u001b[0;31mAttributeError\u001b[0m: 'NotebookFormatter' object has no attribute 'get_result'"
     ]
    },
    {
     "data": {
      "text/plain": [
       "   customer_id      pred\n",
       "0      1000014  0.753637\n",
       "1      1000046  0.231422\n",
       "2      1000069  0.627563\n",
       "3      1000105  0.800692\n",
       "4      1000109  0.410944"
      ]
     },
     "execution_count": 26,
     "metadata": {},
     "output_type": "execute_result"
    }
   ],
   "source": [
    "df_preds.head()"
   ]
  },
  {
   "cell_type": "code",
   "execution_count": 27,
   "metadata": {
    "collapsed": false
   },
   "outputs": [],
   "source": [
    "sub = pd.read_csv('data/data71980/submission.csv')"
   ]
  },
  {
   "cell_type": "code",
   "execution_count": 28,
   "metadata": {
    "collapsed": false
   },
   "outputs": [
    {
     "name": "stdout",
     "output_type": "stream",
     "text": [
      "<class 'pandas.core.frame.DataFrame'>\n",
      "RangeIndex: 1585986 entries, 0 to 1585985\n",
      "Data columns (total 2 columns):\n",
      " #   Column       Non-Null Count    Dtype  \n",
      "---  ------       --------------    -----  \n",
      " 0   customer_id  1585986 non-null  int64  \n",
      " 1   result       1585986 non-null  float64\n",
      "dtypes: float64(1), int64(1)\n",
      "memory usage: 24.2 MB\n"
     ]
    }
   ],
   "source": [
    "sub.info()"
   ]
  },
  {
   "cell_type": "code",
   "execution_count": 29,
   "metadata": {
    "collapsed": false
   },
   "outputs": [],
   "source": [
    "submission = pd.merge(sub, df_preds, on='customer_id', how='left')\r\n",
    "submission.fillna(0,inplace=True)\r\n",
    "submission = submission[['customer_id','pred']]\r\n",
    "submission.rename(columns={'customer_id':'customer_id','pred':'result'}, inplace=True)"
   ]
  },
  {
   "cell_type": "code",
   "execution_count": 30,
   "metadata": {
    "collapsed": false
   },
   "outputs": [
    {
     "ename": "AttributeError",
     "evalue": "'NotebookFormatter' object has no attribute 'get_result'",
     "output_type": "error",
     "traceback": [
      "\u001b[0;31m---------------------------------------------------------------------------\u001b[0m",
      "\u001b[0;31mAttributeError\u001b[0m                            Traceback (most recent call last)",
      "\u001b[0;32m/opt/conda/envs/python35-paddle120-env/lib/python3.7/site-packages/IPython/core/formatters.py\u001b[0m in \u001b[0;36m__call__\u001b[0;34m(self, obj)\u001b[0m\n\u001b[1;32m    343\u001b[0m             \u001b[0mmethod\u001b[0m \u001b[0;34m=\u001b[0m \u001b[0mget_real_method\u001b[0m\u001b[0;34m(\u001b[0m\u001b[0mobj\u001b[0m\u001b[0;34m,\u001b[0m \u001b[0mself\u001b[0m\u001b[0;34m.\u001b[0m\u001b[0mprint_method\u001b[0m\u001b[0;34m)\u001b[0m\u001b[0;34m\u001b[0m\u001b[0;34m\u001b[0m\u001b[0m\n\u001b[1;32m    344\u001b[0m             \u001b[0;32mif\u001b[0m \u001b[0mmethod\u001b[0m \u001b[0;32mis\u001b[0m \u001b[0;32mnot\u001b[0m \u001b[0;32mNone\u001b[0m\u001b[0;34m:\u001b[0m\u001b[0;34m\u001b[0m\u001b[0;34m\u001b[0m\u001b[0m\n\u001b[0;32m--> 345\u001b[0;31m                 \u001b[0;32mreturn\u001b[0m \u001b[0mmethod\u001b[0m\u001b[0;34m(\u001b[0m\u001b[0;34m)\u001b[0m\u001b[0;34m\u001b[0m\u001b[0;34m\u001b[0m\u001b[0m\n\u001b[0m\u001b[1;32m    346\u001b[0m             \u001b[0;32mreturn\u001b[0m \u001b[0;32mNone\u001b[0m\u001b[0;34m\u001b[0m\u001b[0;34m\u001b[0m\u001b[0m\n\u001b[1;32m    347\u001b[0m         \u001b[0;32melse\u001b[0m\u001b[0;34m:\u001b[0m\u001b[0;34m\u001b[0m\u001b[0;34m\u001b[0m\u001b[0m\n",
      "\u001b[0;32m/opt/conda/envs/python35-paddle120-env/lib/python3.7/site-packages/pandas/core/frame.py\u001b[0m in \u001b[0;36m_repr_html_\u001b[0;34m(self)\u001b[0m\n\u001b[1;32m    796\u001b[0m         \u001b[0mmax_cols\u001b[0m \u001b[0;34m=\u001b[0m \u001b[0mget_option\u001b[0m\u001b[0;34m(\u001b[0m\u001b[0;34m\"display.max_columns\"\u001b[0m\u001b[0;34m)\u001b[0m\u001b[0;34m\u001b[0m\u001b[0;34m\u001b[0m\u001b[0m\n\u001b[1;32m    797\u001b[0m         \u001b[0mmax_colwidth\u001b[0m \u001b[0;34m=\u001b[0m \u001b[0mget_option\u001b[0m\u001b[0;34m(\u001b[0m\u001b[0;34m\"display.max_colwidth\"\u001b[0m\u001b[0;34m)\u001b[0m\u001b[0;34m\u001b[0m\u001b[0;34m\u001b[0m\u001b[0m\n\u001b[0;32m--> 798\u001b[0;31m         \u001b[0mshow_dimensions\u001b[0m \u001b[0;34m=\u001b[0m \u001b[0mget_option\u001b[0m\u001b[0;34m(\u001b[0m\u001b[0;34m\"display.show_dimensions\"\u001b[0m\u001b[0;34m)\u001b[0m\u001b[0;34m\u001b[0m\u001b[0;34m\u001b[0m\u001b[0m\n\u001b[0m\u001b[1;32m    799\u001b[0m         \u001b[0;32mif\u001b[0m \u001b[0mget_option\u001b[0m\u001b[0;34m(\u001b[0m\u001b[0;34m\"display.expand_frame_repr\"\u001b[0m\u001b[0;34m)\u001b[0m\u001b[0;34m:\u001b[0m\u001b[0;34m\u001b[0m\u001b[0;34m\u001b[0m\u001b[0m\n\u001b[1;32m    800\u001b[0m             \u001b[0mwidth\u001b[0m\u001b[0;34m,\u001b[0m \u001b[0m_\u001b[0m \u001b[0;34m=\u001b[0m \u001b[0mconsole\u001b[0m\u001b[0;34m.\u001b[0m\u001b[0mget_console_size\u001b[0m\u001b[0;34m(\u001b[0m\u001b[0;34m)\u001b[0m\u001b[0;34m\u001b[0m\u001b[0;34m\u001b[0m\u001b[0m\n",
      "\u001b[0;32m/opt/conda/envs/python35-paddle120-env/lib/python3.7/site-packages/pandas/io/formats/format.py\u001b[0m in \u001b[0;36mto_html\u001b[0;34m(self, buf, encoding, classes, notebook, border)\u001b[0m\n\u001b[1;32m    986\u001b[0m         \u001b[0mnotebook\u001b[0m \u001b[0;34m:\u001b[0m \u001b[0;34m{\u001b[0m\u001b[0;32mTrue\u001b[0m\u001b[0;34m,\u001b[0m \u001b[0;32mFalse\u001b[0m\u001b[0;34m}\u001b[0m\u001b[0;34m,\u001b[0m \u001b[0moptional\u001b[0m\u001b[0;34m,\u001b[0m \u001b[0mdefault\u001b[0m \u001b[0;32mFalse\u001b[0m\u001b[0;34m\u001b[0m\u001b[0;34m\u001b[0m\u001b[0m\n\u001b[1;32m    987\u001b[0m             \u001b[0mWhether\u001b[0m \u001b[0mthe\u001b[0m \u001b[0mgenerated\u001b[0m \u001b[0mHTML\u001b[0m \u001b[0;32mis\u001b[0m \u001b[0;32mfor\u001b[0m \u001b[0mIPython\u001b[0m \u001b[0mNotebook\u001b[0m\u001b[0;34m.\u001b[0m\u001b[0;34m\u001b[0m\u001b[0;34m\u001b[0m\u001b[0m\n\u001b[0;32m--> 988\u001b[0;31m         \u001b[0mborder\u001b[0m \u001b[0;34m:\u001b[0m \u001b[0mint\u001b[0m\u001b[0;34m\u001b[0m\u001b[0;34m\u001b[0m\u001b[0m\n\u001b[0m\u001b[1;32m    989\u001b[0m             \u001b[0mA\u001b[0m\u001b[0;31m \u001b[0m\u001b[0;31m`\u001b[0m\u001b[0;31m`\u001b[0m\u001b[0mborder\u001b[0m\u001b[0;34m=\u001b[0m\u001b[0mborder\u001b[0m\u001b[0;31m`\u001b[0m\u001b[0;31m`\u001b[0m \u001b[0mattribute\u001b[0m \u001b[0;32mis\u001b[0m \u001b[0mincluded\u001b[0m \u001b[0;32min\u001b[0m \u001b[0mthe\u001b[0m \u001b[0mopening\u001b[0m\u001b[0;34m\u001b[0m\u001b[0;34m\u001b[0m\u001b[0m\n\u001b[1;32m    990\u001b[0m             \u001b[0;31m`\u001b[0m\u001b[0;31m`\u001b[0m\u001b[0;34m<\u001b[0m\u001b[0mtable\u001b[0m\u001b[0;34m>\u001b[0m\u001b[0;31m`\u001b[0m\u001b[0;31m`\u001b[0m \u001b[0mtag\u001b[0m\u001b[0;34m.\u001b[0m \u001b[0mDefault\u001b[0m\u001b[0;31m \u001b[0m\u001b[0;31m`\u001b[0m\u001b[0;31m`\u001b[0m\u001b[0mpd\u001b[0m\u001b[0;34m.\u001b[0m\u001b[0moptions\u001b[0m\u001b[0;34m.\u001b[0m\u001b[0mdisplay\u001b[0m\u001b[0;34m.\u001b[0m\u001b[0mhtml\u001b[0m\u001b[0;34m.\u001b[0m\u001b[0mborder\u001b[0m\u001b[0;31m`\u001b[0m\u001b[0;31m`\u001b[0m\u001b[0;34m.\u001b[0m\u001b[0;34m\u001b[0m\u001b[0;34m\u001b[0m\u001b[0m\n",
      "\u001b[0;31mAttributeError\u001b[0m: 'NotebookFormatter' object has no attribute 'get_result'"
     ]
    },
    {
     "data": {
      "text/plain": [
       "   customer_id    result\n",
       "0      1000000  0.000000\n",
       "1      1000014  0.753637\n",
       "2      1000034  0.000000\n",
       "3      1000046  0.231422\n",
       "4      1000048  0.000000"
      ]
     },
     "execution_count": 30,
     "metadata": {},
     "output_type": "execute_result"
    }
   ],
   "source": [
    "submission.head()"
   ]
  },
  {
   "cell_type": "code",
   "execution_count": 31,
   "metadata": {
    "collapsed": false
   },
   "outputs": [],
   "source": [
    "# 将概率值转换为用户是否购买的标签\r\n",
    "def f(x):\r\n",
    "    if x <= 0.3:\r\n",
    "        return 0\r\n",
    "    if x > 0.3:\r\n",
    "        return 1\r\n",
    "    return x"
   ]
  },
  {
   "cell_type": "code",
   "execution_count": 32,
   "metadata": {
    "collapsed": false
   },
   "outputs": [],
   "source": [
    "submission['result'] = submission['result'].map(f)"
   ]
  },
  {
   "cell_type": "code",
   "execution_count": 26,
   "metadata": {
    "collapsed": false
   },
   "outputs": [
    {
     "data": {
      "text/html": [
       "<div>\n",
       "<style scoped>\n",
       "    .dataframe tbody tr th:only-of-type {\n",
       "        vertical-align: middle;\n",
       "    }\n",
       "\n",
       "    .dataframe tbody tr th {\n",
       "        vertical-align: top;\n",
       "    }\n",
       "\n",
       "    .dataframe thead th {\n",
       "        text-align: right;\n",
       "    }\n",
       "</style>\n",
       "<table border=\"1\" class=\"dataframe\">\n",
       "  <thead>\n",
       "    <tr style=\"text-align: right;\">\n",
       "      <th></th>\n",
       "      <th>customer_id</th>\n",
       "      <th>result</th>\n",
       "    </tr>\n",
       "  </thead>\n",
       "  <tbody>\n",
       "    <tr>\n",
       "      <th>0</th>\n",
       "      <td>1000000</td>\n",
       "      <td>0</td>\n",
       "    </tr>\n",
       "    <tr>\n",
       "      <th>1</th>\n",
       "      <td>1000014</td>\n",
       "      <td>1</td>\n",
       "    </tr>\n",
       "    <tr>\n",
       "      <th>2</th>\n",
       "      <td>1000034</td>\n",
       "      <td>0</td>\n",
       "    </tr>\n",
       "    <tr>\n",
       "      <th>3</th>\n",
       "      <td>1000046</td>\n",
       "      <td>0</td>\n",
       "    </tr>\n",
       "    <tr>\n",
       "      <th>4</th>\n",
       "      <td>1000048</td>\n",
       "      <td>0</td>\n",
       "    </tr>\n",
       "  </tbody>\n",
       "</table>\n",
       "</div>"
      ],
      "text/plain": [
       "   customer_id  result\n",
       "0      1000000       0\n",
       "1      1000014       1\n",
       "2      1000034       0\n",
       "3      1000046       0\n",
       "4      1000048       0"
      ]
     },
     "execution_count": 26,
     "metadata": {},
     "output_type": "execute_result"
    }
   ],
   "source": [
    "submission.to_csv('submission.csv',index=False)\r\n",
    "submission.head()"
   ]
  }
 ],
 "metadata": {
  "kernelspec": {
   "display_name": "PaddlePaddle 2.0.0b0 (Python 3.5)",
   "language": "python",
   "name": "py35-paddle1.2.0"
  },
  "language_info": {
   "codemirror_mode": {
    "name": "ipython",
    "version": 3
   },
   "file_extension": ".py",
   "mimetype": "text/x-python",
   "name": "python",
   "nbconvert_exporter": "python",
   "pygments_lexer": "ipython3",
   "version": "3.7.4"
  }
 },
 "nbformat": 4,
 "nbformat_minor": 1
}
